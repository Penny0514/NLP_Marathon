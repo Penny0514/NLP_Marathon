{
  "nbformat": 4,
  "nbformat_minor": 0,
  "metadata": {
    "colab": {
      "name": "NLP_pytorch_1_tensor.ipynb",
      "provenance": []
    },
    "kernelspec": {
      "name": "python3",
      "display_name": "Python 3"
    },
    "language_info": {
      "name": "python"
    },
    "accelerator": "GPU"
  },
  "cells": [
    {
      "cell_type": "markdown",
      "metadata": {
        "id": "gULr9nzCV4Bs"
      },
      "source": [
        "# What is tensor?\n",
        "\n",
        "\n",
        "1. Tensor is a concept of array in pytorch\n",
        "2. It can support GPU\n",
        "3. Tensor can be vector, array or n-dimension array\n",
        "\n"
      ]
    },
    {
      "cell_type": "markdown",
      "metadata": {
        "id": "oJqxO8SfWaMY"
      },
      "source": [
        "# How to create a tensor?"
      ]
    },
    {
      "cell_type": "code",
      "metadata": {
        "id": "yjN8k-r3WUTR"
      },
      "source": [
        "import torch"
      ],
      "execution_count": 2,
      "outputs": []
    },
    {
      "cell_type": "code",
      "metadata": {
        "colab": {
          "base_uri": "https://localhost:8080/"
        },
        "id": "MmJEBurvWnKw",
        "outputId": "101b2f02-2afd-4c77-ad4d-96e9c96c6784"
      },
      "source": [
        "# 0 維 tensor\n",
        "t0 = torch.tensor(1,dtype=torch.int32)\n",
        "\n",
        "print('t0:　',t0.shape)\n",
        "print(t0)\n",
        "print('---------')\n",
        "\n",
        "# 1 維 tensor\n",
        "t1 = torch.tensor([1,2,3],dtype=torch.float16)\n",
        "print('t1:　',t1.shape)\n",
        "print(t1)\n",
        "print('---------')\n",
        "\n",
        "# 2 維 tensor\n",
        "t2 = torch.tensor([[1,2,3,4],[6,7,8,9]],dtype=torch.float16)\n",
        "print('t2:　',t2.shape)\n",
        "print(t2)\n",
        "print('---------')\n",
        "\n",
        "# 3 維 tensor\n",
        "t3 = torch.tensor([[[1,2,3],[3,4,5]],[[5,6,7],[7,8,9]]],dtype=torch.float16)\n",
        "print('t3:　',t3.shape)\n",
        "print(t3)"
      ],
      "execution_count": 20,
      "outputs": [
        {
          "output_type": "stream",
          "text": [
            "t0:　 torch.Size([])\n",
            "tensor(1, dtype=torch.int32)\n",
            "---------\n",
            "t1:　 torch.Size([3])\n",
            "tensor([1., 2., 3.], dtype=torch.float16)\n",
            "---------\n",
            "t2:　 torch.Size([2, 4])\n",
            "tensor([[1., 2., 3., 4.],\n",
            "        [6., 7., 8., 9.]], dtype=torch.float16)\n",
            "---------\n",
            "t3:　 torch.Size([2, 2, 3])\n",
            "tensor([[[1., 2., 3.],\n",
            "         [3., 4., 5.]],\n",
            "\n",
            "        [[5., 6., 7.],\n",
            "         [7., 8., 9.]]], dtype=torch.float16)\n"
          ],
          "name": "stdout"
        }
      ]
    },
    {
      "cell_type": "code",
      "metadata": {
        "colab": {
          "base_uri": "https://localhost:8080/"
        },
        "id": "3kRsxHe7W0eH",
        "outputId": "c18840e9-e7e7-4b6a-c5ab-5bc804ea9786"
      },
      "source": [
        "'''\n",
        "torch.randn: 由平均值為0，標準差為1的常態分佈中，抽樣元素組成給定形狀的張量\n",
        "參數: size\n",
        "'''\n",
        "t4 = torch.randn([2,3])\n",
        "print(t4)\n",
        "\n",
        "'''\n",
        "torch.randint: 在給定的上下界(預設下界為0)中抽樣\"整數\"元素組成給定形狀的張量\n",
        "參數: low, high, size\n",
        "'''\n",
        "t5 = torch.randint(low=0, high=10, size=(3,2))\n",
        "print(t5)\n",
        "\n",
        "'''\n",
        "torch.ones: 產生給定形狀，元素全為1的張量\n",
        "參數: size\n",
        "'''\n",
        "t6 = torch.ones((2,4))\n",
        "print(t6)\n",
        "\n",
        "'''\n",
        "torch.ones_like: 產生與給定張量相同形狀，但元素全為1的張量\n",
        "'''\n",
        "t7 = torch.ones_like(t6)\n",
        "print(t7)\n",
        "\n"
      ],
      "execution_count": 28,
      "outputs": [
        {
          "output_type": "stream",
          "text": [
            "tensor([[ 0.7006, -0.3608,  1.4482],\n",
            "        [-0.5746, -0.8766, -1.2984]])\n",
            "tensor([[1, 0],\n",
            "        [4, 0],\n",
            "        [3, 9]])\n",
            "tensor([[1., 1., 1., 1.],\n",
            "        [1., 1., 1., 1.]])\n",
            "tensor([[1., 1., 1., 1.],\n",
            "        [1., 1., 1., 1.]])\n"
          ],
          "name": "stdout"
        }
      ]
    },
    {
      "cell_type": "markdown",
      "metadata": {
        "id": "EZBtCYvgbNwC"
      },
      "source": [
        "# array to tensor"
      ]
    },
    {
      "cell_type": "code",
      "metadata": {
        "colab": {
          "base_uri": "https://localhost:8080/"
        },
        "id": "heVQtc3IbZFw",
        "outputId": "4f25f09a-23fe-41ce-acce-ced18ba6661b"
      },
      "source": [
        "import numpy as np\n",
        "\n",
        "# 產生numpy ndarray\n",
        "x = np.array([[1.,2],[3,4]])\n",
        "print(x)\n",
        "\n",
        "# 由numpy ndarray產生pytorch tensor\n",
        "y = torch.from_numpy(x)\n",
        "# y = torch.tensor(x) 也可以達到同樣效果\n",
        "print(y)"
      ],
      "execution_count": 30,
      "outputs": [
        {
          "output_type": "stream",
          "text": [
            "[[1. 2.]\n",
            " [3. 4.]]\n",
            "tensor([[1., 2.],\n",
            "        [3., 4.]], dtype=torch.float64)\n"
          ],
          "name": "stdout"
        }
      ]
    },
    {
      "cell_type": "markdown",
      "metadata": {
        "id": "WzK9wGpdd3jm"
      },
      "source": [
        "# tensor to array\n"
      ]
    },
    {
      "cell_type": "code",
      "metadata": {
        "colab": {
          "base_uri": "https://localhost:8080/"
        },
        "id": "rdW6kBHIeASo",
        "outputId": "e098a01d-d88a-4656-b36d-68645e550885"
      },
      "source": [
        "z = y.numpy()\n",
        "print(z)"
      ],
      "execution_count": 31,
      "outputs": [
        {
          "output_type": "stream",
          "text": [
            "[[1. 2.]\n",
            " [3. 4.]]\n"
          ],
          "name": "stdout"
        }
      ]
    },
    {
      "cell_type": "markdown",
      "metadata": {
        "id": "vcbBd70Te1g6"
      },
      "source": [
        "# tensor運算"
      ]
    },
    {
      "cell_type": "code",
      "metadata": {
        "colab": {
          "base_uri": "https://localhost:8080/"
        },
        "id": "VxXWt9h9eMUg",
        "outputId": "06c253c6-387e-4c88-94de-4a907e8cc138"
      },
      "source": [
        "# 創建tensor\n",
        "a = torch.randn((2,3))\n",
        "b = torch.randn(3)\n",
        "print(a.shape, b.shape)\n",
        "print(a)\n",
        "print(b)\n",
        "\n",
        "# 相加\n",
        "t_add1 = a + b\n",
        "t_add2 = torch.add(a,b)\n",
        "print(t_add1.shape, t_add2.shape)\n",
        "\n",
        "\n",
        "# 相減\n",
        "t_sub1 = a - b\n",
        "t_sub2 = torch.sub(a,b)\n",
        "print(t_sub1, t_sub2)\n",
        "\n",
        "\n",
        "# 相除\n",
        "t_div1 = a / b\n",
        "t_div2 = torch.div(a,b)\n",
        "print(t_div1, t_div2)\n",
        "\n",
        "\n",
        "# 相乘\n",
        "t_mul1 = a * b\n",
        "t_mul2 = torch.mul(a, b)\n",
        "print(t_mul1, t_mul2)\n"
      ],
      "execution_count": 35,
      "outputs": [
        {
          "output_type": "stream",
          "text": [
            "torch.Size([2, 3]) torch.Size([3])\n",
            "tensor([[ 0.1585,  0.8403, -1.8294],\n",
            "        [ 0.2109, -1.2044, -0.1296]])\n",
            "tensor([-0.6105,  0.1304, -1.8276])\n",
            "torch.Size([2, 3]) torch.Size([2, 3])\n",
            "tensor([[ 0.7690,  0.7099, -0.0018],\n",
            "        [ 0.8213, -1.3348,  1.6980]]) tensor([[ 0.7690,  0.7099, -0.0018],\n",
            "        [ 0.8213, -1.3348,  1.6980]])\n",
            "tensor([[-0.2597,  6.4440,  1.0010],\n",
            "        [-0.3454, -9.2359,  0.0709]]) tensor([[-0.2597,  6.4440,  1.0010],\n",
            "        [-0.3454, -9.2359,  0.0709]])\n",
            "torch.Size([2, 3]) torch.Size([2, 3])\n"
          ],
          "name": "stdout"
        },
        {
          "output_type": "execute_result",
          "data": {
            "text/plain": [
              "(tensor([[-0.0968,  0.1096,  3.3434],\n",
              "         [-0.1287, -0.1571,  0.2368]]), tensor([[-0.0968,  0.1096,  3.3434],\n",
              "         [-0.1287, -0.1571,  0.2368]]))"
            ]
          },
          "metadata": {
            "tags": []
          },
          "execution_count": 35
        }
      ]
    },
    {
      "cell_type": "code",
      "metadata": {
        "colab": {
          "base_uri": "https://localhost:8080/"
        },
        "id": "LU-nzkLvjgK4",
        "outputId": "80818d4a-676b-4f00-f347-e5df325b9ef8"
      },
      "source": [
        "# 矩陣乘法\n",
        "c = torch.randn((2,3))\n",
        "d = torch.randn((3,4))\n",
        "\n",
        "t_matmul1 = c.mm(d)\n",
        "t_matmul2 = torch.mm(c,d)\n",
        "t_matmul3 = torch.matmul(c,d)\n",
        "t_matmul4 = c @ d\n",
        "t_matmul1"
      ],
      "execution_count": 37,
      "outputs": [
        {
          "output_type": "execute_result",
          "data": {
            "text/plain": [
              "tensor([[ 0.3473, -0.4294, -0.5247, -0.2404],\n",
              "        [ 0.9603, -0.0496, -1.2464, -1.0502]])"
            ]
          },
          "metadata": {
            "tags": []
          },
          "execution_count": 37
        }
      ]
    },
    {
      "cell_type": "markdown",
      "metadata": {
        "id": "RrZfsSZ9evGs"
      },
      "source": [
        "# Tensor shape"
      ]
    },
    {
      "cell_type": "code",
      "metadata": {
        "colab": {
          "base_uri": "https://localhost:8080/"
        },
        "id": "d-_8dSyrk3sY",
        "outputId": "0d50f83a-58cb-47e4-a0c4-8622898249e6"
      },
      "source": [
        "# 創健tensor\n",
        "a = torch.tensor([[[1, 2, 3], [4, 5, 6]],\n",
        "\t\t\t\t\t[[5, 6, 7], [8, 9, 0]]])\n",
        "print(a.shape)\n",
        "print(a)"
      ],
      "execution_count": 50,
      "outputs": [
        {
          "output_type": "stream",
          "text": [
            "torch.Size([2, 2, 3])\n",
            "tensor([[[1, 2, 3],\n",
            "         [4, 5, 6]],\n",
            "\n",
            "        [[5, 6, 7],\n",
            "         [8, 9, 0]]])\n"
          ],
          "name": "stdout"
        }
      ]
    },
    {
      "cell_type": "code",
      "metadata": {
        "colab": {
          "base_uri": "https://localhost:8080/"
        },
        "id": "EAqLZIE6k6Jc",
        "outputId": "ef71b5cd-85a5-4ee8-c980-d6d791be9249"
      },
      "source": [
        "# 將tensor形狀由[2,2,3]改為[2,6]\n",
        "b = a.reshape(2, 6)\n",
        "c = a.view(2, 6)\n",
        "d = a.reshape(3, -1)\n",
        "print(b.shape, c.shape, d.shape)\n",
        "b,c,d"
      ],
      "execution_count": 51,
      "outputs": [
        {
          "output_type": "stream",
          "text": [
            "torch.Size([2, 6]) torch.Size([2, 6]) torch.Size([3, 4])\n"
          ],
          "name": "stdout"
        },
        {
          "output_type": "execute_result",
          "data": {
            "text/plain": [
              "(tensor([[1, 2, 3, 4, 5, 6],\n",
              "         [5, 6, 7, 8, 9, 0]]), tensor([[1, 2, 3, 4, 5, 6],\n",
              "         [5, 6, 7, 8, 9, 0]]), tensor([[1, 2, 3, 4],\n",
              "         [5, 6, 5, 6],\n",
              "         [7, 8, 9, 0]]))"
            ]
          },
          "metadata": {
            "tags": []
          },
          "execution_count": 51
        }
      ]
    },
    {
      "cell_type": "code",
      "metadata": {
        "colab": {
          "base_uri": "https://localhost:8080/"
        },
        "id": "r5cAKt0Gk_kA",
        "outputId": "e5f79808-a8fc-47e0-ceda-0fb09ee60c6b"
      },
      "source": [
        "# 調換tensor維度\n",
        "'''\n",
        "permute 給定輸出的維度順序，如 (0,2,1) 代表輸出的維度順序是原本張量維度的 0,2,1 順序\n",
        "transpose 將給定維度進行對調，如 (1,2) 將原本的第 1 維與第 2 維進行對調\n",
        "'''\n",
        "a.shape\n",
        "e = a.permute((0, 2, 1))\n",
        "f = a.transpose(1,2)\n",
        "print(a.shape, e.shape, f.shape)\n",
        "a, e, f"
      ],
      "execution_count": 52,
      "outputs": [
        {
          "output_type": "stream",
          "text": [
            "torch.Size([2, 2, 3]) torch.Size([2, 3, 2]) torch.Size([2, 3, 2])\n"
          ],
          "name": "stdout"
        },
        {
          "output_type": "execute_result",
          "data": {
            "text/plain": [
              "(tensor([[[1, 2, 3],\n",
              "          [4, 5, 6]],\n",
              " \n",
              "         [[5, 6, 7],\n",
              "          [8, 9, 0]]]), tensor([[[1, 4],\n",
              "          [2, 5],\n",
              "          [3, 6]],\n",
              " \n",
              "         [[5, 8],\n",
              "          [6, 9],\n",
              "          [7, 0]]]), tensor([[[1, 4],\n",
              "          [2, 5],\n",
              "          [3, 6]],\n",
              " \n",
              "         [[5, 8],\n",
              "          [6, 9],\n",
              "          [7, 0]]]))"
            ]
          },
          "metadata": {
            "tags": []
          },
          "execution_count": 52
        }
      ]
    },
    {
      "cell_type": "code",
      "metadata": {
        "colab": {
          "base_uri": "https://localhost:8080/"
        },
        "id": "FSoppEVUlcRA",
        "outputId": "503122e3-6ab7-4baf-98d8-781be1b0c376"
      },
      "source": [
        "# 增加張量維度\n",
        "g = torch.unsqueeze(a, dim=0) #增加維度在1的位置\n",
        "h = torch.squeeze(g) #壓縮為度為1的位置\n",
        "print(a.shape, g.shape, h.shape)\n",
        "g, h"
      ],
      "execution_count": 56,
      "outputs": [
        {
          "output_type": "stream",
          "text": [
            "torch.Size([2, 2, 3]) torch.Size([1, 2, 2, 3]) torch.Size([2, 2, 3])\n"
          ],
          "name": "stdout"
        },
        {
          "output_type": "execute_result",
          "data": {
            "text/plain": [
              "(tensor([[[[1, 2, 3],\n",
              "           [4, 5, 6]],\n",
              " \n",
              "          [[5, 6, 7],\n",
              "           [8, 9, 0]]]]), tensor([[[1, 2, 3],\n",
              "          [4, 5, 6]],\n",
              " \n",
              "         [[5, 6, 7],\n",
              "          [8, 9, 0]]]))"
            ]
          },
          "metadata": {
            "tags": []
          },
          "execution_count": 56
        }
      ]
    },
    {
      "cell_type": "code",
      "metadata": {
        "id": "Ab8XwLA2mbJB"
      },
      "source": [
        ""
      ],
      "execution_count": null,
      "outputs": []
    }
  ]
}